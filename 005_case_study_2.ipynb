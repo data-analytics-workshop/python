{
  "nbformat": 4,
  "nbformat_minor": 0,
  "metadata": {
    "colab": {
      "name": "005_case_study_2.ipynb",
      "provenance": [],
      "toc_visible": true,
      "include_colab_link": true
    },
    "kernelspec": {
      "name": "python3",
      "display_name": "Python 3"
    }
  },
  "cells": [
    {
      "cell_type": "markdown",
      "metadata": {
        "id": "view-in-github",
        "colab_type": "text"
      },
      "source": [
        "<a href=\"https://colab.research.google.com/github/data-analytics-workshop/python/blob/master/005_case_study_2.ipynb\" target=\"_parent\"><img src=\"https://colab.research.google.com/assets/colab-badge.svg\" alt=\"Open In Colab\"/></a>"
      ]
    },
    {
      "cell_type": "markdown",
      "metadata": {
        "id": "LCQ5IM2Nt7EU",
        "colab_type": "text"
      },
      "source": [
        "# Case Study 2 - Time Series"
      ]
    },
    {
      "cell_type": "markdown",
      "metadata": {
        "id": "yt79glYgACLZ",
        "colab_type": "text"
      },
      "source": [
        "Forecasting of House Price Index (HPI).\n",
        "\n",
        "An ARIMA model is a class of statistical models for analyzing and forecasting time series data. The data used in this study are monthly Canberra house price trading index in 21 years from 1990 - 2011. The units are house price indexes and there are 253 observations.\n",
        "\n",
        "To perform time series analysis we need libraries for data manipulation and visualization. Frist of all we should import the libraries needed."
      ]
    },
    {
      "cell_type": "markdown",
      "metadata": {
        "id": "v5qJ2Dqwt-tC",
        "colab_type": "text"
      },
      "source": [
        "**Import Libraries**"
      ]
    },
    {
      "cell_type": "code",
      "metadata": {
        "id": "SrrT-nopuDAw",
        "colab_type": "code",
        "colab": {}
      },
      "source": [
        "# Import Library for Data Manipulation\n",
        "import pandas as pd\n",
        "import numpy as np"
      ],
      "execution_count": 0,
      "outputs": []
    },
    {
      "cell_type": "code",
      "metadata": {
        "id": "51ax6xDauE7B",
        "colab_type": "code",
        "colab": {}
      },
      "source": [
        "# Import Library for Visualization\n",
        "import seaborn as sns\n",
        "import matplotlib.pyplot as plt"
      ],
      "execution_count": 0,
      "outputs": []
    },
    {
      "cell_type": "markdown",
      "metadata": {
        "id": "7o4Sc0nJuHy7",
        "colab_type": "text"
      },
      "source": [
        "**Import Data**"
      ]
    },
    {
      "cell_type": "markdown",
      "metadata": {
        "id": "8LlpikGtHrJW",
        "colab_type": "text"
      },
      "source": [
        "We import the house price index data and sparse the date."
      ]
    },
    {
      "cell_type": "code",
      "metadata": {
        "id": "KeSfpv_B_aYr",
        "colab_type": "code",
        "colab": {}
      },
      "source": [
        "# Set Date Parser\n",
        "mydateparser = lambda x: pd.datetime.strptime(x, \"%d-%b-%y\")"
      ],
      "execution_count": 0,
      "outputs": []
    },
    {
      "cell_type": "code",
      "metadata": {
        "id": "mxhS_V2huAmq",
        "colab_type": "code",
        "colab": {}
      },
      "source": [
        "# Import Dataset\n",
        "df_house = pd.read_csv('https://raw.githubusercontent.com/dianrdn/data/master/House-index-canberra.csv', sep = ',', parse_dates=[0], index_col=0, squeeze=True, date_parser=mydateparser)\n",
        "df_house"
      ],
      "execution_count": 0,
      "outputs": []
    },
    {
      "cell_type": "markdown",
      "metadata": {
        "id": "Dcop410EV_oo",
        "colab_type": "text"
      },
      "source": [
        "**Explore Dataset**"
      ]
    },
    {
      "cell_type": "markdown",
      "metadata": {
        "id": "_aC8Fd9rH5Oq",
        "colab_type": "text"
      },
      "source": [
        "The data is also plotted as a time series with the month along the x-axis and house price index figures on the y-axis."
      ]
    },
    {
      "cell_type": "code",
      "metadata": {
        "id": "XI0am60gXADK",
        "colab_type": "code",
        "colab": {}
      },
      "source": [
        "# Explore Dataset\n",
        "plt.rcParams['figure.figsize'] = (16, 9)\n",
        "plt.style.use('ggplot')\n",
        "df_house.plot()\n",
        "plt.xlabel('year')\n",
        "plt.ylabel('house price index')\n",
        "plt.title('Overtime House Index')"
      ],
      "execution_count": 0,
      "outputs": []
    },
    {
      "cell_type": "markdown",
      "metadata": {
        "id": "G6a4OvkHIBNL",
        "colab_type": "text"
      },
      "source": [
        "We can see that the house price index dataset has a clear trend."
      ]
    },
    {
      "cell_type": "markdown",
      "metadata": {
        "id": "f-8E-2ieIvxv",
        "colab_type": "text"
      },
      "source": [
        "Let’s also take a quick look at an autocorrelation plot of the time series. This is also built-in to Pandas."
      ]
    },
    {
      "cell_type": "code",
      "metadata": {
        "id": "6ucfhxEnILOx",
        "colab_type": "code",
        "colab": {}
      },
      "source": [
        "# Import Module\n",
        "from pandas.plotting import autocorrelation_plot\n",
        "\n",
        "# Visualize Autocorrelation Plot\n",
        "autocorrelation_plot(df_house)\n",
        "plt.show()"
      ],
      "execution_count": 0,
      "outputs": []
    },
    {
      "cell_type": "markdown",
      "metadata": {
        "id": "8ka8KPCrhOkI",
        "colab_type": "text"
      },
      "source": [
        "**Time Series - ARIMA Modeling**"
      ]
    },
    {
      "cell_type": "markdown",
      "metadata": {
        "id": "WWi81E3YBT52",
        "colab_type": "text"
      },
      "source": [
        "Modeling ARIMA"
      ]
    },
    {
      "cell_type": "markdown",
      "metadata": {
        "id": "lEZT6rlMJAmo",
        "colab_type": "text"
      },
      "source": [
        "First, we fit an ARIMA(5,1,0) model. This sets the lag value to 5 for autoregression, uses a difference order of 1 to make the time series stationary, and uses a moving average model of 0."
      ]
    },
    {
      "cell_type": "code",
      "metadata": {
        "id": "B1PbFIv2XwJ_",
        "colab_type": "code",
        "colab": {}
      },
      "source": [
        "# Import Module\n",
        "from statsmodels.tsa.arima_model import ARIMA\n",
        "\n",
        "# Modeling and Show Result Summary\n",
        "arima = ARIMA(df_house, order=(5,1,0))\n",
        "arima_fit = arima.fit(disp=0)\n",
        "print(arima_fit.summary())"
      ],
      "execution_count": 0,
      "outputs": []
    },
    {
      "cell_type": "markdown",
      "metadata": {
        "id": "3ML_lXZQBXLn",
        "colab_type": "text"
      },
      "source": [
        "Residuals"
      ]
    },
    {
      "cell_type": "code",
      "metadata": {
        "id": "X0tt_mEQX_EP",
        "colab_type": "code",
        "colab": {}
      },
      "source": [
        "# Visualize Residuals Overtime\n",
        "residuals = pd.DataFrame(arima_fit.resid)\n",
        "residuals.plot()\n",
        "plt.show()"
      ],
      "execution_count": 0,
      "outputs": []
    },
    {
      "cell_type": "code",
      "metadata": {
        "id": "IPHSLZArE0ug",
        "colab_type": "code",
        "colab": {}
      },
      "source": [
        "# Visualize Residuals Distribution\n",
        "residuals.plot(kind='kde')\n",
        "plt.show()"
      ],
      "execution_count": 0,
      "outputs": []
    },
    {
      "cell_type": "code",
      "metadata": {
        "id": "NsVZfynwE8nN",
        "colab_type": "code",
        "colab": {}
      },
      "source": [
        "# Show Residuals Description\n",
        "residuals.describe()"
      ],
      "execution_count": 0,
      "outputs": []
    },
    {
      "cell_type": "markdown",
      "metadata": {
        "id": "QPCZ3mxeBcK0",
        "colab_type": "text"
      },
      "source": [
        "Visualize Actual vs Predicted House Price Index"
      ]
    },
    {
      "cell_type": "code",
      "metadata": {
        "id": "Vj-gO1fvFTcx",
        "colab_type": "code",
        "colab": {}
      },
      "source": [
        "for t in range(len(test)):\n",
        "\tmodel = ARIMA(history, order=(5,1,0))\n",
        "\tmodel_fit = model.fit(disp=0)\n",
        "\toutput = model_fit.forecast()\n",
        "\tyhat = output[0]\n",
        "\tpredictions.append(yhat)\n",
        "\tobs = test[t]\n",
        "\thistory.append(obs)\n",
        "\tprint('predicted=%f, expected=%f' % (yhat, obs))"
      ],
      "execution_count": 0,
      "outputs": []
    },
    {
      "cell_type": "code",
      "metadata": {
        "id": "bKgn6YZrYyuj",
        "colab_type": "code",
        "colab": {}
      },
      "source": [
        "# Import Module\n",
        "from sklearn.metrics import mean_squared_error\n",
        "\n",
        "# Show Actual vs Predicted House Price Index\n",
        "df_house_values = df_house.values\n",
        "size = int(len(df_house_values) * 0.6)\n",
        "train, test = df_house_values[0:size], df_house_values[size:len(df_house_values)]\n",
        "history = [x for x in train]\n",
        "predictions = list()\n",
        "for t in range(len(test)):\n",
        "\tarima = ARIMA(history, order=(5,1,0))\n",
        "\tarima_fit = arima.fit(disp=0)\n",
        "\toutput = arima_fit.forecast()\n",
        "\tpredicted = output[0]\n",
        "\tpredictions.append(predicted)\n",
        "\tactual = test[t]\n",
        "\thistory.append(actual)\n",
        "\tprint('predicted=%f, actual=%f' % (predicted, actual))\n",
        "error = mean_squared_error(test, predictions)\n",
        "print('Test MSE: %.3f' % error)"
      ],
      "execution_count": 0,
      "outputs": []
    },
    {
      "cell_type": "code",
      "metadata": {
        "id": "ZOKcjomLbS75",
        "colab_type": "code",
        "colab": {}
      },
      "source": [
        "# Visualize Actual vs Predicted House Price Index\n",
        "plt.plot(test, color='blue', label='actual')\n",
        "plt.plot(predictions, color='red', label='prediction')\n",
        "plt.xlabel('year')\n",
        "plt.ylabel('house index')\n",
        "plt.title('Overtime House Price Index')\n",
        "plt.legend()\n",
        "plt.show()"
      ],
      "execution_count": 0,
      "outputs": []
    }
  ]
}