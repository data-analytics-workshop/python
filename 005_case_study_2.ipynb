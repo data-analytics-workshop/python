{
  "nbformat": 4,
  "nbformat_minor": 0,
  "metadata": {
    "colab": {
      "name": "005_case_study_2.ipynb",
      "provenance": [],
      "toc_visible": true,
      "authorship_tag": "ABX9TyMdLwkj7iBkgCvLGiQO5JrT",
      "include_colab_link": true
    },
    "kernelspec": {
      "name": "python3",
      "display_name": "Python 3"
    }
  },
  "cells": [
    {
      "cell_type": "markdown",
      "metadata": {
        "id": "view-in-github",
        "colab_type": "text"
      },
      "source": [
        "<a href=\"https://colab.research.google.com/github/data-analytics-workshop/python/blob/master/005_case_study_2.ipynb\" target=\"_parent\"><img src=\"https://colab.research.google.com/assets/colab-badge.svg\" alt=\"Open In Colab\"/></a>"
      ]
    },
    {
      "cell_type": "markdown",
      "metadata": {
        "id": "LCQ5IM2Nt7EU",
        "colab_type": "text"
      },
      "source": [
        "# Case Study 2 - Time Series"
      ]
    },
    {
      "cell_type": "markdown",
      "metadata": {
        "id": "v5qJ2Dqwt-tC",
        "colab_type": "text"
      },
      "source": [
        "**Import Libraries**"
      ]
    },
    {
      "cell_type": "code",
      "metadata": {
        "id": "SrrT-nopuDAw",
        "colab_type": "code",
        "colab": {}
      },
      "source": [
        "# Import Library for Data Manipulation\n",
        "import pandas as pd\n",
        "import numpy as np"
      ],
      "execution_count": 0,
      "outputs": []
    },
    {
      "cell_type": "code",
      "metadata": {
        "id": "51ax6xDauE7B",
        "colab_type": "code",
        "colab": {}
      },
      "source": [
        "# Import Library for Visualization\n",
        "import seaborn as sns\n",
        "import matplotlib.pyplot as plt"
      ],
      "execution_count": 0,
      "outputs": []
    },
    {
      "cell_type": "markdown",
      "metadata": {
        "id": "7o4Sc0nJuHy7",
        "colab_type": "text"
      },
      "source": [
        "**Import Data**"
      ]
    },
    {
      "cell_type": "code",
      "metadata": {
        "id": "KeSfpv_B_aYr",
        "colab_type": "code",
        "colab": {}
      },
      "source": [
        "# Set Date Parser\n",
        "mydateparser = lambda x: pd.datetime.strptime(x, \"%d-%b-%y\")"
      ],
      "execution_count": 0,
      "outputs": []
    },
    {
      "cell_type": "code",
      "metadata": {
        "id": "mxhS_V2huAmq",
        "colab_type": "code",
        "colab": {}
      },
      "source": [
        "# Import Dataset\n",
        "df_house = pd.read_csv('https://raw.githubusercontent.com/dianrdn/data/master/House-index-canberra.csv', sep = ',', parse_dates=[0], index_col=0, squeeze=True, date_parser=mydateparser)\n",
        "df_house"
      ],
      "execution_count": 0,
      "outputs": []
    },
    {
      "cell_type": "code",
      "metadata": {
        "id": "FucjqMk_u0NW",
        "colab_type": "code",
        "colab": {}
      },
      "source": [
        "# Prints the Dataset Information\n",
        "df_house.info()"
      ],
      "execution_count": 0,
      "outputs": []
    },
    {
      "cell_type": "markdown",
      "metadata": {
        "id": "Dcop410EV_oo",
        "colab_type": "text"
      },
      "source": [
        "**Explore Dataset**"
      ]
    },
    {
      "cell_type": "code",
      "metadata": {
        "id": "XI0am60gXADK",
        "colab_type": "code",
        "colab": {}
      },
      "source": [
        "# Explore Dataset\n",
        "plt.rcParams['figure.figsize'] = (16, 9)\n",
        "plt.style.use('ggplot')\n",
        "df_house.plot()\n",
        "plt.xlabel('year')\n",
        "plt.ylabel('house index')\n",
        "plt.title('Overtime House Index')"
      ],
      "execution_count": 0,
      "outputs": []
    },
    {
      "cell_type": "markdown",
      "metadata": {
        "id": "8ka8KPCrhOkI",
        "colab_type": "text"
      },
      "source": [
        "**Time Series - ARIMA Modeling**"
      ]
    },
    {
      "cell_type": "code",
      "metadata": {
        "id": "B1PbFIv2XwJ_",
        "colab_type": "code",
        "colab": {}
      },
      "source": [
        "# Modeling and Show Result Summary\n",
        "arima = ARIMA(df_house, order=(5,1,0))\n",
        "arima_fit = arima.fit(disp=0)\n",
        "print(arima_fit.summary())"
      ],
      "execution_count": 0,
      "outputs": []
    },
    {
      "cell_type": "code",
      "metadata": {
        "id": "X0tt_mEQX_EP",
        "colab_type": "code",
        "colab": {}
      },
      "source": [
        "# Visualize Residuals\n",
        "residuals = pd.DataFrame(arima_fit.resid)\n",
        "residuals.plot()\n",
        "plt.show()"
      ],
      "execution_count": 0,
      "outputs": []
    },
    {
      "cell_type": "code",
      "metadata": {
        "id": "bKgn6YZrYyuj",
        "colab_type": "code",
        "colab": {}
      },
      "source": [
        "from sklearn.metrics import mean_squared_error\n",
        "\n",
        "df_house_values = df_house.values\n",
        "size = int(len(df_house_values) * 0.5)\n",
        "train, test = df_house_values[0:size], df_house_values[size:len(df_house_values)]\n",
        "history = [x for x in train]\n",
        "predictions = list()\n",
        "for t in range(len(test)):\n",
        "\tarima = ARIMA(history, order=(5,1,0))\n",
        "\tarima_fit = arima.fit(disp=0)\n",
        "\toutput = arima_fit.forecast()\n",
        "\tpredicted = output[0]\n",
        "\tpredictions.append(predicted)\n",
        "\tactual = test[t]\n",
        "\thistory.append(actual)\n",
        "\tprint('predicted=%f, actual=%f' % (predicted, actual))\n",
        "error = mean_squared_error(actual, predictions)\n",
        "print('Test MSE: %.3f' % error)"
      ],
      "execution_count": 0,
      "outputs": []
    },
    {
      "cell_type": "code",
      "metadata": {
        "id": "ZOKcjomLbS75",
        "colab_type": "code",
        "colab": {}
      },
      "source": [
        "# plot\n",
        "plt.plot(actual, color='blue', label='actual')\n",
        "plt.plot(predictions, color='red', label='prediction')\n",
        "plt.xlabel('year')\n",
        "plt.ylabel('house index')\n",
        "plt.title('Overtime House Index')\n",
        "plt.legend()\n",
        "plt.show()"
      ],
      "execution_count": 0,
      "outputs": []
    }
  ]
}