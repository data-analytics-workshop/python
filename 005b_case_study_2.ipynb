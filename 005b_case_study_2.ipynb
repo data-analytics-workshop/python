{
  "nbformat": 4,
  "nbformat_minor": 0,
  "metadata": {
    "colab": {
      "name": "005b_case_study_2.ipynb",
      "provenance": [],
      "collapsed_sections": [],
      "toc_visible": true,
      "authorship_tag": "ABX9TyM3KR9DL3PP0Rym0HSUVJF5",
      "include_colab_link": true
    },
    "kernelspec": {
      "name": "python3",
      "display_name": "Python 3"
    }
  },
  "cells": [
    {
      "cell_type": "markdown",
      "metadata": {
        "id": "view-in-github",
        "colab_type": "text"
      },
      "source": [
        "<a href=\"https://colab.research.google.com/github/data-analytics-workshop/python/blob/master/005b_case_study_2.ipynb\" target=\"_parent\"><img src=\"https://colab.research.google.com/assets/colab-badge.svg\" alt=\"Open In Colab\"/></a>"
      ]
    },
    {
      "cell_type": "markdown",
      "metadata": {
        "id": "M9PJvs2b9Qux",
        "colab_type": "text"
      },
      "source": [
        "# Case Study - Insurance Claims Prediction"
      ]
    },
    {
      "cell_type": "markdown",
      "metadata": {
        "id": "jUadK_vH96ux",
        "colab_type": "text"
      },
      "source": [
        "Insurance companies sell promises – in a return for a premium, they guarantee that if something bad would happen, a policyholder will get a certain amount of benefit according to a policy sum assured. After such policy is sold, it can pass many years until a claim is made. For covering such future payments, insurers set up a reserve called also Claims Reserve, calculated by financial department and actuaries (statisticians in insurance companies).\n",
        "\n",
        "It is extremely important to predict the final amount of claims and estimate Claims Reserve as accurately as possible so that insurers can:\n",
        "\n",
        "1.   effectively utilize the capital if it is not meant to build reserves,\n",
        "3.   make better management decisions about investments, new products and sales strategy,\n",
        "2.   build trust and stability through accurate financial statements.\n",
        "\n",
        "Traditionally, insurers predict claim amount by taking similar groups of policies and analyzing their historical development of losses. Based on patterns from historical data, some estimates of claim amounts are produced. Moreover, one has to include expert adjustments to accommodate the fact that data is historical, but we predict on new policies. Then, the groups of policies are aggregated to get Claims Reserve amount that will be placed on financial statement."
      ]
    },
    {
      "cell_type": "markdown",
      "metadata": {
        "id": "JsxJozCbS9Vu",
        "colab_type": "text"
      },
      "source": [
        "#### **Install and Import Libraries Needed**"
      ]
    },
    {
      "cell_type": "markdown",
      "metadata": {
        "id": "0stp2RaTxTW6",
        "colab_type": "text"
      },
      "source": [
        "Install Library"
      ]
    },
    {
      "cell_type": "code",
      "metadata": {
        "id": "_G2Z9ytqxbYJ",
        "colab_type": "code",
        "colab": {}
      },
      "source": [
        "# Install Category Encoders\n",
        "! pip install category_encoders"
      ],
      "execution_count": 0,
      "outputs": []
    },
    {
      "cell_type": "markdown",
      "metadata": {
        "id": "FyLVQ8XixY40",
        "colab_type": "text"
      },
      "source": [
        "Import Libraries"
      ]
    },
    {
      "cell_type": "code",
      "metadata": {
        "id": "i61sbWLG9JRA",
        "colab_type": "code",
        "colab": {}
      },
      "source": [
        "# Import Library for Data Manipulation\n",
        "import pandas as pd\n",
        "import category_encoders as ce\n",
        "\n",
        "# Import Library for Machine Learning\n",
        "import sklearn.metrics as metrics\n",
        "\n",
        "# Import Library for Visualization\n",
        "import matplotlib. pyplot as plt\n",
        "import seaborn as sns"
      ],
      "execution_count": 0,
      "outputs": []
    },
    {
      "cell_type": "markdown",
      "metadata": {
        "id": "1qJ2DGvkTcvA",
        "colab_type": "text"
      },
      "source": [
        "#### **Import Dataset**"
      ]
    },
    {
      "cell_type": "markdown",
      "metadata": {
        "id": "a6rAh1pqoWVl",
        "colab_type": "text"
      },
      "source": [
        "Insurance Claim Data"
      ]
    },
    {
      "cell_type": "code",
      "metadata": {
        "id": "zrQ_G5aQTcX3",
        "colab_type": "code",
        "colab": {}
      },
      "source": [
        "# Import Dataset\n",
        "df_claim = pd.read_csv('https://raw.githubusercontent.com/dianrdn/data/master/insurance_claim_data.csv', sep =';')\n",
        "df_claim"
      ],
      "execution_count": 0,
      "outputs": []
    },
    {
      "cell_type": "code",
      "metadata": {
        "id": "oOYs-ahcT15W",
        "colab_type": "code",
        "colab": {}
      },
      "source": [
        "# Prints the Dataset Information\n",
        "df_claim.info()"
      ],
      "execution_count": 0,
      "outputs": []
    },
    {
      "cell_type": "code",
      "metadata": {
        "id": "Xy6SGLZGT6Bg",
        "colab_type": "code",
        "colab": {}
      },
      "source": [
        "# Prints Descriptive Statistics\n",
        "df_claim.describe().transpose()"
      ],
      "execution_count": 0,
      "outputs": []
    },
    {
      "cell_type": "markdown",
      "metadata": {
        "id": "yrTlr2IPok03",
        "colab_type": "text"
      },
      "source": [
        "Customer Profile Data"
      ]
    },
    {
      "cell_type": "code",
      "metadata": {
        "id": "3qSAPG-homf7",
        "colab_type": "code",
        "colab": {}
      },
      "source": [
        "# Import Dataset\n",
        "df_customer = pd.read_csv('https://raw.githubusercontent.com/dianrdn/data/master/insurance_profile_data.csv', sep =';')\n",
        "df_customer"
      ],
      "execution_count": 0,
      "outputs": []
    },
    {
      "cell_type": "code",
      "metadata": {
        "id": "9BWGzcXHouQX",
        "colab_type": "code",
        "colab": {}
      },
      "source": [
        "# Prints the Dataset Information\n",
        "df_customer.info()"
      ],
      "execution_count": 0,
      "outputs": []
    },
    {
      "cell_type": "code",
      "metadata": {
        "id": "TMDxnzKvoxzL",
        "colab_type": "code",
        "colab": {}
      },
      "source": [
        "# Prints Descriptive Statistics\n",
        "df_customer.describe().transpose()"
      ],
      "execution_count": 0,
      "outputs": []
    },
    {
      "cell_type": "markdown",
      "metadata": {
        "id": "E90z5TGyo5KF",
        "colab_type": "text"
      },
      "source": [
        "Join Insurance Claim Data and Customer Profile Data"
      ]
    },
    {
      "cell_type": "code",
      "metadata": {
        "id": "T8PcbJOYpAxB",
        "colab_type": "code",
        "colab": {}
      },
      "source": [
        "# Merge Insurance Claim and Customer Profile Data based on id\n",
        "df_insurance = pd.merge(df_customer, df_claim, on='id')\n",
        "df_insurance"
      ],
      "execution_count": 0,
      "outputs": []
    },
    {
      "cell_type": "code",
      "metadata": {
        "id": "zzZ8MDmLybro",
        "colab_type": "code",
        "colab": {}
      },
      "source": [
        "# Prints the Dataset Information\n",
        "df_insurance.info()"
      ],
      "execution_count": 0,
      "outputs": []
    },
    {
      "cell_type": "code",
      "metadata": {
        "id": "ueu8t223yjPA",
        "colab_type": "code",
        "colab": {}
      },
      "source": [
        "# Count of Each Class \n",
        "df_insurance.insuranceclaim.value_counts()"
      ],
      "execution_count": 0,
      "outputs": []
    },
    {
      "cell_type": "markdown",
      "metadata": {
        "id": "vSfvwOFtUo3Z",
        "colab_type": "text"
      },
      "source": [
        "#### **Explore the Dataset**"
      ]
    },
    {
      "cell_type": "markdown",
      "metadata": {
        "id": "-ChlrsJCq20b",
        "colab_type": "text"
      },
      "source": [
        "Visualize Data using Pairplot"
      ]
    },
    {
      "cell_type": "code",
      "metadata": {
        "id": "bWNM6O_HXPr9",
        "colab_type": "code",
        "colab": {}
      },
      "source": [
        "# Set Graph Size\n",
        "plt.rcParams['figure.figsize'] = (16, 8)\n",
        "\n",
        "# Visualize Pair Plot with Colors\n",
        "sns.pairplot(df_insurance, hue='insuranceclaim')"
      ],
      "execution_count": 0,
      "outputs": []
    },
    {
      "cell_type": "markdown",
      "metadata": {
        "id": "jGAJM7jJq-pg",
        "colab_type": "text"
      },
      "source": [
        "Visualize Data using Scatterplot"
      ]
    },
    {
      "cell_type": "code",
      "metadata": {
        "id": "32-Z8qhZdE5V",
        "colab_type": "code",
        "colab": {}
      },
      "source": [
        "# Draw Scatterplot\n",
        "sns.relplot(x='bmi', y='charges', hue='insuranceclaim', style= 'sex', size='age', col ='children', kind='scatter', data=df_insurance)"
      ],
      "execution_count": 0,
      "outputs": []
    },
    {
      "cell_type": "markdown",
      "metadata": {
        "id": "STVZQt4CuhOC",
        "colab_type": "text"
      },
      "source": [
        "Visualize Correlation between Features"
      ]
    },
    {
      "cell_type": "code",
      "metadata": {
        "id": "LJFC8ViouWfY",
        "colab_type": "code",
        "colab": {}
      },
      "source": [
        "# Draw Correlation Map\n",
        "sns.clustermap(df_insurance.corr(), center=0, cmap='vlag', linewidths=.75)"
      ],
      "execution_count": 0,
      "outputs": []
    },
    {
      "cell_type": "markdown",
      "metadata": {
        "id": "3R3_fHaNgxnn",
        "colab_type": "text"
      },
      "source": [
        "#### **Preprocess the Data**"
      ]
    },
    {
      "cell_type": "markdown",
      "metadata": {
        "id": "ZFTBvd-4xl8M",
        "colab_type": "text"
      },
      "source": [
        "Handling Missing Values"
      ]
    },
    {
      "cell_type": "code",
      "metadata": {
        "id": "FeFs1qpixlim",
        "colab_type": "code",
        "colab": {}
      },
      "source": [
        "# Check for Missing Values\n",
        "df_insurance.isnull().sum()"
      ],
      "execution_count": 0,
      "outputs": []
    },
    {
      "cell_type": "code",
      "metadata": {
        "id": "nNTi7u6zxxUW",
        "colab_type": "code",
        "colab": {}
      },
      "source": [
        "# Search for Median Value\n",
        "median = df_insurance['bmi'].median()\n",
        "\n",
        "# Use Median to Replace Missing Values\n",
        "df_insurance['bmi'].fillna(median, inplace=True)\n",
        "\n",
        "# Check for Missing Values\n",
        "df_insurance.isnull().sum()"
      ],
      "execution_count": 0,
      "outputs": []
    },
    {
      "cell_type": "markdown",
      "metadata": {
        "id": "g9dAZlmkyKpD",
        "colab_type": "text"
      },
      "source": [
        "Encode Categorical Data"
      ]
    },
    {
      "cell_type": "code",
      "metadata": {
        "id": "TZSW6OQ-x5rH",
        "colab_type": "code",
        "colab": {}
      },
      "source": [
        "# Import Module\n",
        "from sklearn.preprocessing import OneHotEncoder\n",
        "\n",
        "# Encoder\n",
        "encoder = OneHotEncoder(sparse=False)\n",
        "\n",
        "# Encode Categorical Data\n",
        "df_encoded = pd.DataFrame(encoder.fit_transform(df_insurance[['region']]))\n",
        "df_encoded.columns = encoder.get_feature_names(['region'])\n",
        "\n",
        "# Replace Categotical Data with Encoded Data\n",
        "df_insurance.drop(['region'] ,axis=1, inplace=True)\n",
        "df_insurance_encoded= pd.concat([df_insurance, df_encoded], axis=1)\n",
        "\n",
        "# Show Encoded Dataframe\n",
        "df_insurance_encoded"
      ],
      "execution_count": 0,
      "outputs": []
    },
    {
      "cell_type": "markdown",
      "metadata": {
        "id": "BkoumkCc0Pxn",
        "colab_type": "text"
      },
      "source": [
        "Select Feature and Target"
      ]
    },
    {
      "cell_type": "code",
      "metadata": {
        "id": "3TsxYmD90T1O",
        "colab_type": "code",
        "colab": {}
      },
      "source": [
        "# Select Features\n",
        "feature = df_insurance_encoded.drop(['id', 'insuranceclaim'], axis=1)\n",
        "feature"
      ],
      "execution_count": 0,
      "outputs": []
    },
    {
      "cell_type": "code",
      "metadata": {
        "id": "z4F1QIoR0rjm",
        "colab_type": "code",
        "colab": {}
      },
      "source": [
        "# Select Target\n",
        "target = df_insurance_encoded['insuranceclaim']\n",
        "target"
      ],
      "execution_count": 0,
      "outputs": []
    },
    {
      "cell_type": "markdown",
      "metadata": {
        "id": "beVc-OYc1Qsi",
        "colab_type": "text"
      },
      "source": [
        "Set Training and Testing Data"
      ]
    },
    {
      "cell_type": "code",
      "metadata": {
        "id": "5-BgCFd61WR6",
        "colab_type": "code",
        "colab": {}
      },
      "source": [
        "# Set Training and Testing Data (70:30)\n",
        "from sklearn.model_selection import train_test_split, cross_val_score\n",
        "feature_train, feature_test, target_train, target_test = train_test_split(feature , target, shuffle = True, test_size=0.3, random_state=1)\n",
        "\n",
        "# Show the Training and Testing Data\n",
        "print(feature_train.shape)\n",
        "print(feature_test.shape)\n",
        "print(target_train.shape)\n",
        "print(target_test.shape)"
      ],
      "execution_count": 0,
      "outputs": []
    },
    {
      "cell_type": "markdown",
      "metadata": {
        "id": "w0nXSlRfUvAi",
        "colab_type": "text"
      },
      "source": [
        "#### **Modeling**"
      ]
    },
    {
      "cell_type": "markdown",
      "metadata": {
        "id": "BetFm0a08Wv7",
        "colab_type": "text"
      },
      "source": [
        "##### **Decision Tree Classifier**"
      ]
    },
    {
      "cell_type": "markdown",
      "metadata": {
        "id": "BQ9ggByW1vuw",
        "colab_type": "text"
      },
      "source": [
        "Build Model"
      ]
    },
    {
      "cell_type": "code",
      "metadata": {
        "id": "TtI5tWFlflH5",
        "colab_type": "code",
        "colab": {}
      },
      "source": [
        "# Import library\n",
        "from sklearn import tree\n",
        "\n",
        "# Modeling Decision Tree\n",
        "dtree = tree.DecisionTreeClassifier(min_impurity_decrease=0.01)\n",
        "dtree.fit(feature_train, target_train)\n",
        "\n",
        "# Predict Test Data \n",
        "target_predicted_dtree = dtree.predict(feature_test)\n",
        "target_predicted_dtree"
      ],
      "execution_count": 0,
      "outputs": []
    },
    {
      "cell_type": "code",
      "metadata": {
        "id": "fTUQdVas349J",
        "colab_type": "code",
        "colab": {}
      },
      "source": [
        "# Visualize Tree\n",
        "\n",
        "from sklearn.externals.six import StringIO  \n",
        "from IPython.display import Image  \n",
        "from sklearn.tree import export_graphviz\n",
        "import pydotplus\n",
        "\n",
        "dot_data = StringIO()\n",
        "export_graphviz(dtree, out_file=dot_data,  \n",
        "                filled=True, rounded=True,\n",
        "                special_characters=True,\n",
        "                class_names=['notclaim','claim'],\n",
        "                feature_names=['age', 'sex',\t'bmi',\t'steps',\t'children',\t'smoker', 'charges',\n",
        "                               'region_northeast',\t'region_northwest', 'region_southeast',\t'region_southwest'])\n",
        "graph = pydotplus.graph_from_dot_data(dot_data.getvalue())  \n",
        "Image(graph.create_png())"
      ],
      "execution_count": 0,
      "outputs": []
    },
    {
      "cell_type": "markdown",
      "metadata": {
        "id": "czEbGDKX6Z9W",
        "colab_type": "text"
      },
      "source": [
        "Model Evaluation"
      ]
    },
    {
      "cell_type": "code",
      "metadata": {
        "id": "gKO27Ejn7Cj1",
        "colab_type": "code",
        "colab": {}
      },
      "source": [
        "# Confsion Matrix\n",
        "cm_dtree = metrics.confusion_matrix(target_test, target_predicted_dtree)\n",
        "cm_dtree"
      ],
      "execution_count": 0,
      "outputs": []
    },
    {
      "cell_type": "code",
      "metadata": {
        "id": "nlBirj1c6hwN",
        "colab_type": "code",
        "colab": {}
      },
      "source": [
        "# Accuracy, Precision, Recall\n",
        "acc_dtree = metrics.accuracy_score(target_test, target_predicted_dtree)\n",
        "prec_dtree = metrics.precision_score(target_test, target_predicted_dtree)\n",
        "rec_dtree = metrics.recall_score(target_test, target_predicted_dtree)\n",
        "f1_dtree = metrics.f1_score(target_test, target_predicted_dtree)\n",
        "kappa_dtree = metrics.cohen_kappa_score(target_test, target_predicted_dtree)\n",
        "\n",
        "# Show Accuracy, Precision, Recall\n",
        "print('Accuracy:', acc_dtree )\n",
        "print('Precision:', prec_dtree)\n",
        "print('Recall:', rec_dtree)\n",
        "print('F1 Score:', f1_dtree)\n",
        "print('Cohens Kappa Score:', kappa_dtree)"
      ],
      "execution_count": 0,
      "outputs": []
    },
    {
      "cell_type": "code",
      "metadata": {
        "id": "tp2o_M1D6rKA",
        "colab_type": "code",
        "colab": {}
      },
      "source": [
        "# Import Visualization Package\n",
        "plt.rcParams['figure.figsize'] = (10, 10)\n",
        "plt.style.use('ggplot')\n",
        "\n",
        "# Visualize ROC Curve\n",
        "target_predicted_dtree_prob = dtree.predict_proba(feature_test)[::,1]\n",
        "fp_rate_dtree, tp_rate_dtree, _ = metrics.roc_curve(target_test,  target_predicted_dtree_prob)\n",
        "auc_dtree = metrics.roc_auc_score(target_test, target_predicted_dtree_prob)\n",
        "plt.plot(fp_rate_dtree, tp_rate_dtree, label='Decision Tree, auc='+str(auc_dtree))\n",
        "plt.xlabel('false positive rate') \n",
        "plt.ylabel('true positive rate')\n",
        "plt.legend(loc=4)\n",
        "plt.show()"
      ],
      "execution_count": 0,
      "outputs": []
    },
    {
      "cell_type": "markdown",
      "metadata": {
        "colab_type": "text",
        "id": "8NdA3tVN8gHI"
      },
      "source": [
        "##### **K-Nearest Neighbor Classifier**"
      ]
    },
    {
      "cell_type": "markdown",
      "metadata": {
        "colab_type": "text",
        "id": "wGoaggS98gHK"
      },
      "source": [
        "Build Model"
      ]
    },
    {
      "cell_type": "code",
      "metadata": {
        "colab_type": "code",
        "id": "KwD6j_Tz8gHO",
        "colab": {}
      },
      "source": [
        "# Import Module\n",
        "from sklearn.neighbors import KNeighborsClassifier\n",
        "\n",
        "# Modeling Naive Bayes\n",
        "knn = KNeighborsClassifier(n_neighbors= 71)\n",
        "knn.fit(feature_train, target_train)\n",
        "\n",
        "# Predict Test Data \n",
        "target_predicted_knn = knn.predict(feature_test)\n",
        "target_predicted_knn"
      ],
      "execution_count": 0,
      "outputs": []
    },
    {
      "cell_type": "markdown",
      "metadata": {
        "colab_type": "text",
        "id": "UExc9lbu8gHV"
      },
      "source": [
        "Model Evaluation"
      ]
    },
    {
      "cell_type": "code",
      "metadata": {
        "colab_type": "code",
        "id": "ImsqBWDD8gHW",
        "colab": {}
      },
      "source": [
        "# Confsion Matrix\n",
        "cm_knn = metrics.confusion_matrix(target_test, target_predicted_knn)\n",
        "cm_knn"
      ],
      "execution_count": 0,
      "outputs": []
    },
    {
      "cell_type": "code",
      "metadata": {
        "colab_type": "code",
        "id": "KRsTvIYX8gHZ",
        "colab": {}
      },
      "source": [
        "# Accuracy, Precision, Recall\n",
        "acc_knn = metrics.accuracy_score(target_test, target_predicted_knn)\n",
        "prec_knn = metrics.precision_score(target_test, target_predicted_knn)\n",
        "rec_knn = metrics.recall_score(target_test, target_predicted_knn)\n",
        "f1_knn = metrics.f1_score(target_test, target_predicted_knn)\n",
        "kappa_knn = metrics.cohen_kappa_score(target_test, target_predicted_knn)\n",
        "\n",
        "# Show Accuracy, Precision, Recall\n",
        "print('Accuracy:', acc_knn)\n",
        "print('Precision:', prec_knn)\n",
        "print('Recall:', rec_knn)\n",
        "print('F1 Score:', f1_knn)\n",
        "print('Cohens Kappa Score:', kappa_knn)"
      ],
      "execution_count": 0,
      "outputs": []
    },
    {
      "cell_type": "code",
      "metadata": {
        "colab_type": "code",
        "id": "_q42OACu8gHb",
        "colab": {}
      },
      "source": [
        "# Import Visualization Package\n",
        "plt.rcParams['figure.figsize'] = (10, 10)\n",
        "plt.style.use('ggplot')\n",
        "\n",
        "# Visualize ROC Curve\n",
        "target_predicted_knn_prob = knn.predict_proba(feature_test)[::,1]\n",
        "fp_rate_knn, tp_rate_knn, _ = metrics.roc_curve(target_test,  target_predicted_knn_prob)\n",
        "auc_knn = metrics.roc_auc_score(target_test, target_predicted_knn_prob)\n",
        "plt.plot(fp_rate_knn, tp_rate_knn, label='KNN, auc='+str(auc_knn))\n",
        "plt.xlabel('false positive rate') \n",
        "plt.ylabel('true positive rate')\n",
        "plt.legend(loc=4)\n",
        "plt.show()"
      ],
      "execution_count": 0,
      "outputs": []
    },
    {
      "cell_type": "markdown",
      "metadata": {
        "colab_type": "text",
        "id": "X3jogut69lMl"
      },
      "source": [
        "##### **Naive Bayes Classifier**"
      ]
    },
    {
      "cell_type": "markdown",
      "metadata": {
        "colab_type": "text",
        "id": "w3m3nOCX9lMq"
      },
      "source": [
        "Build Model"
      ]
    },
    {
      "cell_type": "code",
      "metadata": {
        "colab_type": "code",
        "id": "GAKhoXd69lMt",
        "colab": {}
      },
      "source": [
        "# Import Module\n",
        "from sklearn.naive_bayes import GaussianNB \n",
        "\n",
        "# Modeling Naive Bayes\n",
        "nb = GaussianNB()\n",
        "nb.fit(feature_train, target_train)\n",
        "\n",
        "# Predict Test Data \n",
        "target_predicted_nb = nb.predict(feature_test)\n",
        "target_predicted_nb"
      ],
      "execution_count": 0,
      "outputs": []
    },
    {
      "cell_type": "markdown",
      "metadata": {
        "colab_type": "text",
        "id": "LEQdq6Q29lMx"
      },
      "source": [
        "Model Evaluation"
      ]
    },
    {
      "cell_type": "code",
      "metadata": {
        "colab_type": "code",
        "id": "1Q2n8Oun9lMx",
        "colab": {}
      },
      "source": [
        "# Confsion Matrix\n",
        "cm_nb = metrics.confusion_matrix(target_test, target_predicted_nb)\n",
        "cm_nb"
      ],
      "execution_count": 0,
      "outputs": []
    },
    {
      "cell_type": "code",
      "metadata": {
        "colab_type": "code",
        "id": "ET_Y-VD39lM1",
        "colab": {}
      },
      "source": [
        "# Accuracy, Precision, Recall\n",
        "acc_nb = metrics.accuracy_score(target_test, target_predicted_nb)\n",
        "prec_nb = metrics.precision_score(target_test, target_predicted_nb)\n",
        "rec_nb = metrics.recall_score(target_test, target_predicted_nb)\n",
        "f1_nb = metrics.f1_score(target_test, target_predicted_nb)\n",
        "kappa_nb = metrics.cohen_kappa_score(target_test, target_predicted_nb)\n",
        "\n",
        "# Show Accuracy, Precision, Recall\n",
        "print('Accuracy:', acc_nb)\n",
        "print('Precision:', prec_nb)\n",
        "print('Recall:', rec_nb)\n",
        "print('F1 Score:', f1_nb)\n",
        "print('Cohens Kappa Score:', kappa_nb)"
      ],
      "execution_count": 0,
      "outputs": []
    },
    {
      "cell_type": "code",
      "metadata": {
        "colab_type": "code",
        "id": "egDxdqLr9lM3",
        "colab": {}
      },
      "source": [
        "# Import Visualization Package\n",
        "plt.rcParams['figure.figsize'] = (10, 10)\n",
        "plt.style.use('ggplot')\n",
        "\n",
        "# Visualize ROC Curve\n",
        "target_predicted_nb_prob = nb.predict_proba(feature_test)[::,1]\n",
        "fp_rate_nb, tp_rate_nb, _ = metrics.roc_curve(target_test,  target_predicted_nb_prob)\n",
        "auc_nb = metrics.roc_auc_score(target_test, target_predicted_nb_prob)\n",
        "plt.plot(fp_rate_nb, tp_rate_nb, label='Decision Tree, auc='+str(auc_nb))\n",
        "plt.xlabel('false positive rate') \n",
        "plt.ylabel('true positive rate')\n",
        "plt.legend(loc=4)\n",
        "plt.show()"
      ],
      "execution_count": 0,
      "outputs": []
    },
    {
      "cell_type": "markdown",
      "metadata": {
        "id": "rsqqZ-igGv4x",
        "colab_type": "text"
      },
      "source": [
        "#### **Evaluating Models**"
      ]
    },
    {
      "cell_type": "markdown",
      "metadata": {
        "id": "LzMIknZyI_dc",
        "colab_type": "text"
      },
      "source": [
        "Compare Model Performance"
      ]
    },
    {
      "cell_type": "code",
      "metadata": {
        "id": "EMiFGy5MGywu",
        "colab_type": "code",
        "colab": {}
      },
      "source": [
        "# Comparing Model Performance\n",
        "print('Decision Tree Accuracy =',acc_dtree)\n",
        "print('Decision Tree Precision =',prec_dtree)\n",
        "print('Decision Tree Recall =',rec_dtree)\n",
        "print('Decision Tree F1-Score =', f1_dtree)\n",
        "print('_______________________')\n",
        "print('k-NN Accuracy =', acc_knn)\n",
        "print('k-NN Precision =', prec_knn)\n",
        "print('k-NN Recall =', rec_knn)\n",
        "print('k-NN F1-Score =', f1_knn)\n",
        "print('_______________________')\n",
        "print('Naive Bayes Accuracy =', acc_nb)\n",
        "print('Naive Bayes Precision =', prec_nb)\n",
        "print('Naive Bayes Recall =', rec_nb)\n",
        "print('Naive Bayes F1-Score =', f1_nb)"
      ],
      "execution_count": 0,
      "outputs": []
    },
    {
      "cell_type": "markdown",
      "metadata": {
        "id": "ViDJ86yMJCN8",
        "colab_type": "text"
      },
      "source": [
        "Compare ROC Curve"
      ]
    },
    {
      "cell_type": "code",
      "metadata": {
        "id": "2q4ZhqMzG0WM",
        "colab_type": "code",
        "colab": {}
      },
      "source": [
        "# Comparing ROC Curve\n",
        "plt.plot(fp_rate_dtree,tp_rate_dtree,label='Decision Tree, auc='+str(auc_dtree))\n",
        "plt.plot(fp_rate_knn,tp_rate_knn,label='K-NN, auc='+str(auc_knn))\n",
        "plt.plot(fp_rate_nb,tp_rate_nb,label='Naive Bayes, auc='+str(auc_nb))\n",
        "plt.title('ROC Curve')\n",
        "plt.xlabel('False Positive Rate')\n",
        "plt.ylabel('True Positive Rate')\n",
        "plt.legend(loc=4)\n",
        "plt.show()"
      ],
      "execution_count": 0,
      "outputs": []
    },
    {
      "cell_type": "markdown",
      "metadata": {
        "id": "XlZzvjxKI4Va",
        "colab_type": "text"
      },
      "source": [
        "#### **Predict New Data**"
      ]
    },
    {
      "cell_type": "markdown",
      "metadata": {
        "id": "q6oWU933hkgq",
        "colab_type": "text"
      },
      "source": [
        "Import New Customer Data"
      ]
    },
    {
      "cell_type": "code",
      "metadata": {
        "id": "LjsfwTtEKVw7",
        "colab_type": "code",
        "colab": {}
      },
      "source": [
        "# Import New Dataset\n",
        "df_new_customer = pd.read_csv('https://raw.githubusercontent.com/dianrdn/data/master/insurance_new_customer_profile.csv', sep =';')\n",
        "df_new_customer"
      ],
      "execution_count": 0,
      "outputs": []
    },
    {
      "cell_type": "markdown",
      "metadata": {
        "id": "0lBpnVZyhnUl",
        "colab_type": "text"
      },
      "source": [
        "Preprocess the New Customer Data"
      ]
    },
    {
      "cell_type": "code",
      "metadata": {
        "id": "KD0sje6PgSZw",
        "colab_type": "code",
        "colab": {}
      },
      "source": [
        "# Import Module\n",
        "from sklearn.preprocessing import OneHotEncoder\n",
        "\n",
        "# Encoder\n",
        "encoder = OneHotEncoder(sparse=False)\n",
        "\n",
        "# Encode Categorical Data\n",
        "df_new_customer_encoded = pd.DataFrame(encoder.fit_transform(df_new_customer[['region']]))\n",
        "df_new_customer_encoded.columns = encoder.get_feature_names(['region'])\n",
        "\n",
        "# Replace Categotical Data with Encoded Data\n",
        "df_new_customer.drop(['region'] ,axis=1, inplace=True)\n",
        "df_new_customer_encoded = pd.concat([df_new_customer, df_new_customer_encoded], axis=1)\n",
        "\n",
        "# Show Encoded Dataframe\n",
        "df_new_customer_encoded"
      ],
      "execution_count": 0,
      "outputs": []
    },
    {
      "cell_type": "code",
      "metadata": {
        "id": "MEm6JPj8iaKw",
        "colab_type": "code",
        "colab": {}
      },
      "source": [
        "# Select Features\n",
        "new_feature = df_new_customer_encoded.drop(['id'], axis=1)\n",
        "new_feature"
      ],
      "execution_count": 0,
      "outputs": []
    },
    {
      "cell_type": "markdown",
      "metadata": {
        "id": "Mvc9qmcmhjzP",
        "colab_type": "text"
      },
      "source": [
        "Predict New Customer Data"
      ]
    },
    {
      "cell_type": "code",
      "metadata": {
        "id": "aeG_M45uKD84",
        "colab_type": "code",
        "colab": {}
      },
      "source": [
        "# Predict using Decision Tree Classifier\n",
        "new_predicted_dtree = pd.DataFrame(dtree.predict(new_feature), columns = ['insuranceclaim_dtree'])\n",
        "new_predicted_dtree.reset_index()\n",
        "new_predicted_dtree"
      ],
      "execution_count": 0,
      "outputs": []
    },
    {
      "cell_type": "code",
      "metadata": {
        "id": "uKhUtNhdiuAh",
        "colab_type": "code",
        "colab": {}
      },
      "source": [
        "# Predict using K-Nearest Neighbor Classifier\n",
        "new_predicted_knn = pd.DataFrame(knn.predict(new_feature), columns = ['insuranceclaim_knn'])\n",
        "new_predicted_knn.reset_index()\n",
        "new_predicted_knn"
      ],
      "execution_count": 0,
      "outputs": []
    },
    {
      "cell_type": "code",
      "metadata": {
        "id": "7mf99Ryei7_6",
        "colab_type": "code",
        "colab": {}
      },
      "source": [
        "# Predict using Naive Bayes Classifier\n",
        "new_predicted_nb = pd.DataFrame(nb.predict(new_feature), columns = ['insuranceclaim_nb'])\n",
        "new_predicted_nb.reset_index()\n",
        "new_predicted_nb"
      ],
      "execution_count": 0,
      "outputs": []
    },
    {
      "cell_type": "markdown",
      "metadata": {
        "id": "8T10OLO-itg4",
        "colab_type": "text"
      },
      "source": [
        "Show Prediction Comparation"
      ]
    },
    {
      "cell_type": "code",
      "metadata": {
        "id": "IJJKIx6HinXk",
        "colab_type": "code",
        "colab": {}
      },
      "source": [
        "# Show Prediction Result\n",
        "pred_new_customer = pd.concat([df_new_customer, new_predicted_dtree, new_predicted_knn, new_predicted_nb], axis=1)\n",
        "pred_new_customer"
      ],
      "execution_count": 0,
      "outputs": []
    },
    {
      "cell_type": "markdown",
      "metadata": {
        "id": "87l7KhR_jkee",
        "colab_type": "text"
      },
      "source": [
        "Save Prediction Result"
      ]
    },
    {
      "cell_type": "code",
      "metadata": {
        "id": "giHsuKnbjmcY",
        "colab_type": "code",
        "colab": {}
      },
      "source": [
        "# Save Prediction Result\n",
        "pred_new_customer.to_csv('new_customer_prediction.csv', index=False)"
      ],
      "execution_count": 0,
      "outputs": []
    }
  ]
}