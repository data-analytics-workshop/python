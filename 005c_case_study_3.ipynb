{
  "nbformat": 4,
  "nbformat_minor": 0,
  "metadata": {
    "colab": {
      "name": "005c_case_study_3.ipynb",
      "provenance": [],
      "collapsed_sections": [],
      "toc_visible": true,
      "authorship_tag": "ABX9TyPjXEioVduVT/qzfbxyyILd",
      "include_colab_link": true
    },
    "kernelspec": {
      "name": "python3",
      "display_name": "Python 3"
    }
  },
  "cells": [
    {
      "cell_type": "markdown",
      "metadata": {
        "id": "view-in-github",
        "colab_type": "text"
      },
      "source": [
        "<a href=\"https://colab.research.google.com/github/data-analytics-workshop/python/blob/master/005c_case_study_3.ipynb\" target=\"_parent\"><img src=\"https://colab.research.google.com/assets/colab-badge.svg\" alt=\"Open In Colab\"/></a>"
      ]
    },
    {
      "cell_type": "markdown",
      "metadata": {
        "id": "M9PJvs2b9Qux",
        "colab_type": "text"
      },
      "source": [
        "# Case Study - Customer Segmentation"
      ]
    },
    {
      "cell_type": "markdown",
      "metadata": {
        "id": "jUadK_vH96ux",
        "colab_type": "text"
      },
      "source": [
        "In today’s competitive world, it is crucial to understand customer behavior and categorize customers based on their demography and buying behavior. Customer Segmentation is the subdivision of a market into discrete customer groups that share similar characteristics. Customer Segmentation can be a powerful means to identify unsatisfied customer needs. Using the above data companies can then outperform the competition by developing uniquely appealing products and services.\n",
        "\n",
        "The most common ways in which businesses segment their customer base are:\n",
        "1.   Demographic\n",
        "2.   Geographic\n",
        "3.   Psycographic\n",
        "4.   Behavior\n",
        "\n",
        "**The Challenge**\n",
        "\n",
        "You are owing a supermarket mall and through membership cards, you have some basic data about your customers like Customer ID, age, gender, annual income and spending score. You want to understand the customers like who are the target customers so that the sense can be given to marketing team and plan the strategy accordingly.\n",
        "\n",
        "The Mall Customer Segmentation Data dataset can be downloaded from the kaggle website.\n",
        "\n"
      ]
    },
    {
      "cell_type": "markdown",
      "metadata": {
        "colab_type": "text",
        "id": "JZP77h1qaGbi"
      },
      "source": [
        "**Install and Import Libraries Needed**"
      ]
    },
    {
      "cell_type": "markdown",
      "metadata": {
        "colab_type": "text",
        "id": "MCQPIRbZaGbl"
      },
      "source": [
        "Install Library"
      ]
    },
    {
      "cell_type": "code",
      "metadata": {
        "colab_type": "code",
        "id": "z2Go39sHaGbn",
        "colab": {}
      },
      "source": [
        "# Install Category Encoders\n",
        "! pip install category_encoders"
      ],
      "execution_count": 0,
      "outputs": []
    },
    {
      "cell_type": "markdown",
      "metadata": {
        "colab_type": "text",
        "id": "SmibzUJyaGby"
      },
      "source": [
        "Import Libraries"
      ]
    },
    {
      "cell_type": "code",
      "metadata": {
        "colab_type": "code",
        "id": "MlUoXtiBaGb0",
        "colab": {}
      },
      "source": [
        "# Import Library for Data Manipulation\n",
        "import pandas as pd\n",
        "import numpy as np\n",
        "\n",
        "# Import Library for Visualization\n",
        "import matplotlib. pyplot as plt\n",
        "import seaborn as sns"
      ],
      "execution_count": 0,
      "outputs": []
    },
    {
      "cell_type": "markdown",
      "metadata": {
        "colab_type": "text",
        "id": "xOKLZILWP_lC"
      },
      "source": [
        "**Import Data**"
      ]
    },
    {
      "cell_type": "code",
      "metadata": {
        "colab_type": "code",
        "id": "sk-AHvbGP_lD",
        "colab": {}
      },
      "source": [
        "# Import Dataset\n",
        "df_customer = pd.read_csv('https://raw.githubusercontent.com/dianrdn/data/master/mall_customer.csv', sep=';')\n",
        "df_customer"
      ],
      "execution_count": 0,
      "outputs": []
    },
    {
      "cell_type": "code",
      "metadata": {
        "colab_type": "code",
        "id": "aAs3kf2hP_lG",
        "colab": {}
      },
      "source": [
        "# Prints the Dataset Information\n",
        "df_customer.info()"
      ],
      "execution_count": 0,
      "outputs": []
    },
    {
      "cell_type": "code",
      "metadata": {
        "colab_type": "code",
        "id": "PGFHmTvTP_lK",
        "colab": {}
      },
      "source": [
        "# Prints Descriptive Statistics\n",
        "df_customer.describe().transpose()"
      ],
      "execution_count": 0,
      "outputs": []
    },
    {
      "cell_type": "markdown",
      "metadata": {
        "id": "IWCxb8yslkmN",
        "colab_type": "text"
      },
      "source": [
        "**Explore the Dataset**"
      ]
    },
    {
      "cell_type": "markdown",
      "metadata": {
        "id": "UJ0lSGYFl490",
        "colab_type": "text"
      },
      "source": [
        "Visualize Data using Pairplot"
      ]
    },
    {
      "cell_type": "code",
      "metadata": {
        "id": "hbBTAz-tlw97",
        "colab_type": "code",
        "colab": {}
      },
      "source": [
        "# Set Graph Size\n",
        "plt.rcParams['figure.figsize'] = (16, 8)\n",
        "\n",
        "# Visualize Pair Plot with Colors\n",
        "sns.pairplot(df_customer, hue='gender')"
      ],
      "execution_count": 0,
      "outputs": []
    },
    {
      "cell_type": "markdown",
      "metadata": {
        "id": "sIyXXiQwmGBW",
        "colab_type": "text"
      },
      "source": [
        "Visualize Data using Scatterplot"
      ]
    },
    {
      "cell_type": "code",
      "metadata": {
        "id": "aSg6yGx-lrdY",
        "colab_type": "code",
        "colab": {}
      },
      "source": [
        "# Draw Scatter Plot\n",
        "sns.relplot(x='ann_income_kUSD', y='spending_score', hue='gender', size='age', kind='scatter', col='gender', data=df_customer)\n",
        "plt.title('Customer Behavior')\n",
        "plt.xlabel('Annual Income k USD')\n",
        "plt.ylabel('Spending Score')"
      ],
      "execution_count": 0,
      "outputs": []
    },
    {
      "cell_type": "markdown",
      "metadata": {
        "id": "X1zUhhAzmPg0",
        "colab_type": "text"
      },
      "source": [
        "\n",
        "Visualize Correlation between Features"
      ]
    },
    {
      "cell_type": "code",
      "metadata": {
        "id": "1_Atx0B0mO7t",
        "colab_type": "code",
        "colab": {}
      },
      "source": [
        "# Draw Correlation\n",
        "sns.clustermap(df_customer.corr(), center=0, cmap='vlag', linewidths=.75)"
      ],
      "execution_count": 0,
      "outputs": []
    },
    {
      "cell_type": "markdown",
      "metadata": {
        "colab_type": "text",
        "id": "cRaWmk38P_lO"
      },
      "source": [
        "**Data Preprocessing**"
      ]
    },
    {
      "cell_type": "markdown",
      "metadata": {
        "id": "oc0sRvtQ418Y",
        "colab_type": "text"
      },
      "source": [
        "First, we standardize the data to equalize the range and/or data variability. Feature standardization makes the values of each feature in the data have zero-mean (when subtracting the mean in the numerator) and unit-variance. "
      ]
    },
    {
      "cell_type": "code",
      "metadata": {
        "colab_type": "code",
        "id": "DJLkVFMSP_lR",
        "colab": {}
      },
      "source": [
        "# Importing Standardscalar Module \n",
        "from sklearn.preprocessing import StandardScaler \n",
        "\n",
        "# Set Name for StandardScaler as scaler\n",
        "scaler = StandardScaler() \n",
        "\n",
        "# Select Data\n",
        "df_standardized = df_customer[['age',\t'ann_income_kUSD',\t'spending_score']]\n",
        "\n",
        "# Fit Standardization\n",
        "column_names = df_standardized.columns.tolist()\n",
        "df_standardized[column_names] = scaler.fit_transform(df_standardized[column_names])\n",
        "df_standardized.sort_index(inplace=True)\n",
        "df_standardized"
      ],
      "execution_count": 0,
      "outputs": []
    },
    {
      "cell_type": "markdown",
      "metadata": {
        "id": "_lptWQ-EpWUk",
        "colab_type": "text"
      },
      "source": [
        "**Clustering with K-Means**"
      ]
    },
    {
      "cell_type": "markdown",
      "metadata": {
        "id": "Unebu5ajef8R",
        "colab_type": "text"
      },
      "source": [
        "***Search for the Optimum Number of Clusters (k)***"
      ]
    },
    {
      "cell_type": "code",
      "metadata": {
        "id": "8pwgQESo_n9y",
        "colab_type": "code",
        "colab": {}
      },
      "source": [
        "# Transform Data Frame to Numpy Array\n",
        "customer = df_standardized.to_numpy()\n",
        "customer"
      ],
      "execution_count": 0,
      "outputs": []
    },
    {
      "cell_type": "code",
      "metadata": {
        "id": "Fl---X3eeKx9",
        "colab_type": "code",
        "colab": {}
      },
      "source": [
        "# Elbow Method\n",
        "from sklearn.cluster import KMeans\n",
        "wcss = []\n",
        "for i in range(1,11):\n",
        "    kmeans = KMeans(n_clusters=i, init='k-means++', max_iter=300, n_init=10, random_state=0)\n",
        "    kmeans.fit(customer)\n",
        "    wcss.append(kmeans.inertia_)\n",
        "  \n",
        "# Visualize \n",
        "plt.plot(range(1,11),wcss)\n",
        "plt.title('Elbow Method')\n",
        "plt.xlabel('Number of clusters')\n",
        "plt.ylabel('wcss')\n",
        "plt.xticks(np.arange(1,11,1))\n",
        "plt.show()"
      ],
      "execution_count": 0,
      "outputs": []
    },
    {
      "cell_type": "code",
      "metadata": {
        "id": "490H6p_AerBM",
        "colab_type": "code",
        "colab": {}
      },
      "source": [
        "# Silhoutte Method\n",
        "from sklearn.metrics import silhouette_score\n",
        "from sklearn.cluster import KMeans\n",
        "\n",
        "for n_cluster in range(2, 11):\n",
        "    kmeans = KMeans(n_clusters=n_cluster).fit(customer)\n",
        "    label = kmeans.labels_\n",
        "    sil_coeff = silhouette_score(customer, label, metric='euclidean')\n",
        "    print('For n_clusters={}, The Silhouette Coefficient is {}'.format(n_cluster, sil_coeff))"
      ],
      "execution_count": 0,
      "outputs": []
    },
    {
      "cell_type": "markdown",
      "metadata": {
        "id": "flbUbIjetSJE",
        "colab_type": "text"
      },
      "source": [
        "The optimal K value is found to be 6."
      ]
    },
    {
      "cell_type": "markdown",
      "metadata": {
        "id": "2CHgU53qpKmd",
        "colab_type": "text"
      },
      "source": [
        "***Modeling K-Means Clustering***"
      ]
    },
    {
      "cell_type": "code",
      "metadata": {
        "id": "t5c5fGHieyID",
        "colab_type": "code",
        "colab": {}
      },
      "source": [
        "# Apply the K-Means Model to the Data\n",
        "kmeans = KMeans(n_clusters=6, init='k-means++', max_iter=300, n_init=10, random_state=0)\n",
        "clusters = kmeans.fit_predict(df_standardized.iloc[:,1:])\n",
        "df_standardized['label'] = clusters\n",
        "\n",
        "# Show Clusters\n",
        "df_standardized"
      ],
      "execution_count": 0,
      "outputs": []
    },
    {
      "cell_type": "markdown",
      "metadata": {
        "id": "O1FY08RCu-l1",
        "colab_type": "text"
      },
      "source": [
        "We try to visualize the clusters in 2D graph"
      ]
    },
    {
      "cell_type": "code",
      "metadata": {
        "id": "Dp_BT-Ogtpya",
        "colab_type": "code",
        "colab": {}
      },
      "source": [
        "# Visualising Clusters\n",
        "sns.scatterplot(x='age', y='ann_income_kUSD', data=df_standardized)\n",
        "plt.scatter(df_standardized.age[df_standardized.label == 0], df_standardized['ann_income_kUSD'][df_standardized.label == 0], s = 50, label = 'Cluster 1')\n",
        "plt.scatter(df_standardized.age[df_standardized.label == 1], df_standardized['ann_income_kUSD'][df_standardized.label == 1], s = 50, label = 'Cluster 2')\n",
        "plt.scatter(df_standardized.age[df_standardized.label == 2], df_standardized['ann_income_kUSD'][df_standardized.label == 2], s = 50, label = 'Cluster 3')\n",
        "plt.scatter(df_standardized.age[df_standardized.label == 3], df_standardized['ann_income_kUSD'][df_standardized.label == 3], s = 50, label = 'Cluster 4')\n",
        "plt.scatter(df_standardized.age[df_standardized.label == 4], df_standardized['ann_income_kUSD'][df_standardized.label == 4], s = 50, label = 'Cluster 5')\n",
        "plt.scatter(df_standardized.age[df_standardized.label == 5], df_standardized['ann_income_kUSD'][df_standardized.label == 5], s = 50, label = 'Cluster 6')\n",
        "plt.scatter(kmeans.cluster_centers_[:,0], kmeans.cluster_centers_[:,1],s=200,marker='s', alpha=0.7, label='Centroids')\n",
        "plt.title('Customer segments')\n",
        "plt.xlabel('Annual income')\n",
        "plt.ylabel('Annual spend')\n",
        "plt.legend()\n",
        "plt.show()"
      ],
      "execution_count": 0,
      "outputs": []
    },
    {
      "cell_type": "markdown",
      "metadata": {
        "id": "0qbW3QGLtZlQ",
        "colab_type": "text"
      },
      "source": [
        "Finally we made a 3D plot to visualize the spending score of the customers with their annual income. The data points are separated into 6 classes which are represented in different colours as shown in the 3D plot."
      ]
    },
    {
      "cell_type": "code",
      "metadata": {
        "id": "FIiAc_VqsLcF",
        "colab_type": "code",
        "colab": {}
      },
      "source": [
        "# Import Module\n",
        "from mpl_toolkits.mplot3d import Axes3D\n",
        "\n",
        "# Visualize Clusters\n",
        "ax = plt.axes(projection='3d')\n",
        "ax.scatter(df_standardized.age[df_standardized.label == 0], df_standardized['ann_income_kUSD'][df_standardized.label == 0], df_standardized['spending_score'][df_standardized.label == 0], c='blue', s=60)\n",
        "ax.scatter(df_standardized.age[df_standardized.label == 1], df_standardized['ann_income_kUSD'][df_standardized.label == 1], df_standardized['spending_score'][df_standardized.label == 1], c='red', s=60)\n",
        "ax.scatter(df_standardized.age[df_standardized.label == 2], df_standardized['ann_income_kUSD'][df_standardized.label == 2], df_standardized['spending_score'][df_standardized.label == 2], c='green', s=60)\n",
        "ax.scatter(df_standardized.age[df_standardized.label == 3], df_standardized['ann_income_kUSD'][df_standardized.label == 3], df_standardized['spending_score'][df_standardized.label == 3], c='orange', s=60)\n",
        "ax.scatter(df_standardized.age[df_standardized.label == 4], df_standardized['ann_income_kUSD'][df_standardized.label == 4], df_standardized['spending_score'][df_standardized.label == 4], c='purple', s=60)\n",
        "ax.scatter(df_standardized.age[df_standardized.label == 5], df_standardized['ann_income_kUSD'][df_standardized.label == 5], df_standardized['spending_score'][df_standardized.label == 5], c='yellow', s=60)\n",
        "ax.view_init(30, 185)\n",
        "plt.xlabel('Age')\n",
        "plt.ylabel('Annual Income')\n",
        "ax.set_zlabel('Spending Score')\n",
        "plt.show()"
      ],
      "execution_count": 0,
      "outputs": []
    },
    {
      "cell_type": "markdown",
      "metadata": {
        "id": "87l7KhR_jkee",
        "colab_type": "text"
      },
      "source": [
        "***Save Prediction Result***"
      ]
    },
    {
      "cell_type": "code",
      "metadata": {
        "id": "giHsuKnbjmcY",
        "colab_type": "code",
        "colab": {}
      },
      "source": [
        "# Add Cluster Information to the Raw Data\n",
        "df_customer['cluster'] = clusters\n",
        "df_customer"
      ],
      "execution_count": 0,
      "outputs": []
    },
    {
      "cell_type": "code",
      "metadata": {
        "id": "u7uBUTSOskCs",
        "colab_type": "code",
        "colab": {}
      },
      "source": [
        "# Save Prediction Result\n",
        "df_customer.to_csv('customer_clusters.csv', index=False)"
      ],
      "execution_count": 0,
      "outputs": []
    },
    {
      "cell_type": "markdown",
      "metadata": {
        "id": "lltvW6gYs-gT",
        "colab_type": "text"
      },
      "source": [
        "K means clustering is one of the most popular clustering algorithms and usually the first thing practitioners apply when solving clustering tasks to get an idea of the structure of the dataset. The goal of K means is to group data points into distinct non-overlapping subgroups. One of the major application of K means clustering is segmentation of customers to get a better understanding of them which in turn could be used to increase the revenue of the company."
      ]
    }
  ]
}