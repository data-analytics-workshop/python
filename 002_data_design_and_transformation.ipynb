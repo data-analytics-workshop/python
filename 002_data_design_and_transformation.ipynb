{
  "nbformat": 4,
  "nbformat_minor": 0,
  "metadata": {
    "colab": {
      "name": "002_data_design_and_transformation.ipynb",
      "provenance": [],
      "collapsed_sections": [],
      "toc_visible": true,
      "include_colab_link": true
    },
    "kernelspec": {
      "name": "python3",
      "display_name": "Python 3"
    }
  },
  "cells": [
    {
      "cell_type": "markdown",
      "metadata": {
        "id": "view-in-github",
        "colab_type": "text"
      },
      "source": [
        "<a href=\"https://colab.research.google.com/github/data-analytics-workshop/python/blob/master/002_data_design_and_transformation.ipynb\" target=\"_parent\"><img src=\"https://colab.research.google.com/assets/colab-badge.svg\" alt=\"Open In Colab\"/></a>"
      ]
    },
    {
      "cell_type": "markdown",
      "metadata": {
        "id": "Ds2eMHFoEVBZ",
        "colab_type": "text"
      },
      "source": [
        "# Data Design and Transformation with Pandas"
      ]
    },
    {
      "cell_type": "markdown",
      "metadata": {
        "id": "LCBk5qreGjBU",
        "colab_type": "text"
      },
      "source": [
        "It is often the case with data science projects that you’ll have to deal with messy or incomplete data. The raw data we obtain from different data sources is often unusable at the beginning. All the activity that you do on the raw data to make it “clean” enough to input to your analytical algorithm is called data wrangling.\n",
        "\n",
        "In basic terms data wrangling is the process of unifying and organising different data sets. This step iteratively changes the shape of a dataset until it works well for finding insights or building a good analytic model. Data wrangling is the process where individuals manually convert and map raw data into another format in order to make it more accessible and usable. \n",
        "\n",
        "Pandas is mainly used for machine learning in form of dataframes. Pandas allow importing data of various file formats such as csv, excel etc. Pandas allows various data manipulation operations such as groupby, join, merge, melt, concatenation as well as data cleaning features such as filling, replacing or imputing null values. The Pandas library provides useful functions to support Data Wrangling tasks."
      ]
    },
    {
      "cell_type": "markdown",
      "metadata": {
        "id": "TLmIEi-N_oAi",
        "colab_type": "text"
      },
      "source": [
        "Import Libraries"
      ]
    },
    {
      "cell_type": "code",
      "metadata": {
        "id": "gSpp8LNxZWrL",
        "colab_type": "code",
        "colab": {}
      },
      "source": [
        "# Import Libraries for Data Manupulation\n",
        "import numpy as np\n",
        "import pandas as pd"
      ],
      "execution_count": 0,
      "outputs": []
    },
    {
      "cell_type": "markdown",
      "metadata": {
        "id": "aEM0s4IkEZdV",
        "colab_type": "text"
      },
      "source": [
        "## Joining Data"
      ]
    },
    {
      "cell_type": "markdown",
      "metadata": {
        "id": "44tYK75S51rc",
        "colab_type": "text"
      },
      "source": [
        "Organizations typically find that their data comes from many different sources and this means that it can become scattered and unorganised. Joining data is pusposed to organise different data sets."
      ]
    },
    {
      "cell_type": "markdown",
      "metadata": {
        "id": "6zz6nl8aHrTm",
        "colab_type": "text"
      },
      "source": [
        "### Concatenating"
      ]
    },
    {
      "cell_type": "markdown",
      "metadata": {
        "id": "sjuxkiwFcDdK",
        "colab_type": "text"
      },
      "source": [
        "Concatenating is defined as combining multiple data sources together. The concat function is performing concatenation operations along an axis. Let us create different objects and do concatenation."
      ]
    },
    {
      "cell_type": "markdown",
      "metadata": {
        "id": "rpX4-dWT-mPn",
        "colab_type": "text"
      },
      "source": [
        "Create data frame"
      ]
    },
    {
      "cell_type": "code",
      "metadata": {
        "id": "7topSoLD-m7A",
        "colab_type": "code",
        "colab": {}
      },
      "source": [
        "# Create data frame 1\n",
        "df1 = pd.DataFrame({'A': ['A0', 'A1', 'A2', 'A3'],\n",
        "                    'B': ['B0', 'B1', 'B2', 'B3'],\n",
        "                    'C': ['C0', 'C1', 'C2', 'C3'],\n",
        "                    'D': ['D0', 'D1', 'D2', 'D3']},\n",
        "                    index=[0, 1, 2, 3]) \n",
        "df1"
      ],
      "execution_count": 0,
      "outputs": []
    },
    {
      "cell_type": "code",
      "metadata": {
        "id": "bk7mTq0v_Ebn",
        "colab_type": "code",
        "colab": {}
      },
      "source": [
        "# Create data frame 2\n",
        "df2 = pd.DataFrame({'A': ['A4', 'A5', 'A6', 'A7'],\n",
        "                    'B': ['B4', 'B5', 'B6', 'B7'],\n",
        "                    'C': ['C4', 'C5', 'C6', 'C7'],\n",
        "                    'D': ['D4', 'D5', 'D6', 'D7']},\n",
        "                    index=[4, 5, 6, 7])\n",
        "df2"
      ],
      "execution_count": 0,
      "outputs": []
    },
    {
      "cell_type": "code",
      "metadata": {
        "id": "BWVDtwHV_GWt",
        "colab_type": "code",
        "colab": {}
      },
      "source": [
        "# Create data frame 3\n",
        "df3 = pd.DataFrame({'A': ['A8', 'A9', 'A10', 'A11'],\n",
        "                    'B': ['B8', 'B9', 'B10', 'B11'],\n",
        "                    'C': ['C8', 'C9', 'C10', 'C11'],\n",
        "                    'D': ['D8', 'D9', 'D10', 'D11']},\n",
        "                    index=[0, 1, 2, 3])\n",
        "df3"
      ],
      "execution_count": 0,
      "outputs": []
    },
    {
      "cell_type": "code",
      "metadata": {
        "id": "EZqjtIkUA9rw",
        "colab_type": "code",
        "colab": {}
      },
      "source": [
        "# Create data frame 4\n",
        "df4 = pd.DataFrame({'B': ['B2', 'B3', 'B6', 'B7'],\n",
        "                    'D': ['D2', 'D3', 'D6', 'D7'],\n",
        "                    'F': ['F2', 'F3', 'F6', 'F7']},\n",
        "                    index=[2, 3, 6, 7])\n",
        "df4"
      ],
      "execution_count": 0,
      "outputs": []
    },
    {
      "cell_type": "markdown",
      "metadata": {
        "id": "EkvQsu0gBIX6",
        "colab_type": "text"
      },
      "source": [
        "Concat the same size data frame vertically"
      ]
    },
    {
      "cell_type": "code",
      "metadata": {
        "id": "Zou9-eQg_eUs",
        "colab_type": "code",
        "colab": {}
      },
      "source": [
        "# Concat Data Frame\n",
        "pd.concat([df1, df2])"
      ],
      "execution_count": 0,
      "outputs": []
    },
    {
      "cell_type": "code",
      "metadata": {
        "id": "QLytReAZ__bD",
        "colab_type": "code",
        "colab": {}
      },
      "source": [
        "# Concat Data Frame with Keys\n",
        "pd.concat([df1, df2, df3], keys=['df1', 'df2'])"
      ],
      "execution_count": 0,
      "outputs": []
    },
    {
      "cell_type": "markdown",
      "metadata": {
        "id": "bZrRYRmHCWam",
        "colab_type": "text"
      },
      "source": [
        "Concat the same size data frame horizontally"
      ]
    },
    {
      "cell_type": "code",
      "metadata": {
        "id": "-CI66VmRBvYs",
        "colab_type": "code",
        "colab": {}
      },
      "source": [
        "# Concat Data Frame\n",
        "pd.concat([df1, df3], axis=1)"
      ],
      "execution_count": 0,
      "outputs": []
    },
    {
      "cell_type": "code",
      "metadata": {
        "id": "C-WKT2-mCcWY",
        "colab_type": "code",
        "colab": {}
      },
      "source": [
        "# Concat Data Frame with Keys\n",
        "pd.concat([df1, df3], axis=1, keys=['df1', 'df2'])"
      ],
      "execution_count": 0,
      "outputs": []
    },
    {
      "cell_type": "markdown",
      "metadata": {
        "id": "ZQGSrtrjBdoD",
        "colab_type": "text"
      },
      "source": [
        "Concat the different size data frame vertically"
      ]
    },
    {
      "cell_type": "code",
      "metadata": {
        "id": "BTb8Ff4kDKsP",
        "colab_type": "code",
        "colab": {}
      },
      "source": [
        "# Concat with Join Outer\n",
        "pd.concat([df1, df4], join='outer', keys=['df1', 'df4'])"
      ],
      "execution_count": 0,
      "outputs": []
    },
    {
      "cell_type": "code",
      "metadata": {
        "id": "9EPrcmEpBhzK",
        "colab_type": "code",
        "colab": {}
      },
      "source": [
        "# Concat with Join Inner\n",
        "pd.concat([df1, df4], join='inner', keys=['df1', 'df4'])"
      ],
      "execution_count": 0,
      "outputs": []
    },
    {
      "cell_type": "markdown",
      "metadata": {
        "id": "M53IUMoAELwm",
        "colab_type": "text"
      },
      "source": [
        "Concat the different size data frame horizontally"
      ]
    },
    {
      "cell_type": "code",
      "metadata": {
        "id": "7vakFJQNDmDy",
        "colab_type": "code",
        "colab": {}
      },
      "source": [
        "# Concat with Join Outer\n",
        "pd.concat([df1, df4], axis=1, join='outer', keys=['df1', 'df4'])"
      ],
      "execution_count": 0,
      "outputs": []
    },
    {
      "cell_type": "code",
      "metadata": {
        "id": "ZBUSXEGlDiEc",
        "colab_type": "code",
        "colab": {}
      },
      "source": [
        "# Concat with Join Inner\n",
        "pd.concat([df1, df4], axis=1, join='inner', keys=['df1', 'df4'])"
      ],
      "execution_count": 0,
      "outputs": []
    },
    {
      "cell_type": "markdown",
      "metadata": {
        "id": "3lUDFdpfFPWa",
        "colab_type": "text"
      },
      "source": [
        "Ignoring indexes on the concatenation axis"
      ]
    },
    {
      "cell_type": "code",
      "metadata": {
        "id": "-YVyohhaFQvH",
        "colab_type": "code",
        "colab": {}
      },
      "source": [
        "# Concat and Ignore Index\n",
        "pd.concat([df1, df4], axis=1, join='outer', ignore_index=True)"
      ],
      "execution_count": 0,
      "outputs": []
    },
    {
      "cell_type": "markdown",
      "metadata": {
        "id": "8FFBkHt_FJoN",
        "colab_type": "text"
      },
      "source": [
        "### Merging"
      ]
    },
    {
      "cell_type": "markdown",
      "metadata": {
        "id": "m8D8E-ldZoiQ",
        "colab_type": "text"
      },
      "source": [
        "Merge operations combine data by linking rows using key(s). These operations are central to relational databases. The merge function in pandas is the main entry point for using these algorithms on your data."
      ]
    },
    {
      "cell_type": "markdown",
      "metadata": {
        "id": "wr0I9JI43pGe",
        "colab_type": "text"
      },
      "source": [
        "Create data frame"
      ]
    },
    {
      "cell_type": "code",
      "metadata": {
        "id": "OrYPJy0TETUr",
        "colab_type": "code",
        "colab": {}
      },
      "source": [
        "# Create Pet Weight Data Frame\n",
        "df_pets_age = pd.DataFrame( {'pet'  : ['cat', 'cat', 'dog', 'dog', 'dog', 'otter', 'otter'],\n",
        "                             'age'  : [1, 1, 3, 3, 5, 2, 4]})\n",
        "df_pets_age"
      ],
      "execution_count": 0,
      "outputs": []
    },
    {
      "cell_type": "code",
      "metadata": {
        "id": "UUyA1iWO4AmS",
        "colab_type": "code",
        "colab": {}
      },
      "source": [
        "# Create Pet Color Data Frame\n",
        "df_pets_color = pd.DataFrame({'pet': ['cat', 'dog', 'otter', 'lion'],\n",
        "                             'color' : ['white', 'grey', 'brown', 'red']})\n",
        "df_pets_color"
      ],
      "execution_count": 0,
      "outputs": []
    },
    {
      "cell_type": "code",
      "metadata": {
        "id": "qHdKO0oJ5LII",
        "colab_type": "code",
        "colab": {}
      },
      "source": [
        "# Create Animal Type Data Frame\n",
        "df_animals_type = pd.DataFrame({'animal': ['cat', 'dog', 'otter', 'lion'],\n",
        "                                'type' : ['tame', 'tame', 'tame', 'wild']})\n",
        "df_animals_type"
      ],
      "execution_count": 0,
      "outputs": []
    },
    {
      "cell_type": "markdown",
      "metadata": {
        "id": "Ct7_FfRl6CHs",
        "colab_type": "text"
      },
      "source": [
        "Merge with the same key column name"
      ]
    },
    {
      "cell_type": "code",
      "metadata": {
        "id": "ryZ4NprEFe_C",
        "colab_type": "code",
        "colab": {}
      },
      "source": [
        "# Merge Pet Age and Pet Color based on pet Column\n",
        "df_pets = pd.merge(df_pets_age, df_pets_color, on='pet')\n",
        "df_pets"
      ],
      "execution_count": 0,
      "outputs": []
    },
    {
      "cell_type": "markdown",
      "metadata": {
        "id": "CIE2_4DgbHkv",
        "colab_type": "text"
      },
      "source": [
        "If the column names are different in each data frame, you can specify them separately:"
      ]
    },
    {
      "cell_type": "code",
      "metadata": {
        "id": "ezmUfLybbV96",
        "colab_type": "code",
        "colab": {}
      },
      "source": [
        "# Merge Pet Weight and Pet Color based on pet Column and animal Column\n",
        "df_pets1 = pd.merge(df_pets_age, df_animals_type, left_on='pet', right_on='animal')\n",
        "df_pets1"
      ],
      "execution_count": 0,
      "outputs": []
    },
    {
      "cell_type": "markdown",
      "metadata": {
        "id": "JQJ9cfrNLPks",
        "colab_type": "text"
      },
      "source": [
        "### Reshaping"
      ]
    },
    {
      "cell_type": "markdown",
      "metadata": {
        "id": "ZdhnVuuccqEs",
        "colab_type": "text"
      },
      "source": [
        "Reshaping means the transformation of the structure of data to make it suitable for further analysis."
      ]
    },
    {
      "cell_type": "markdown",
      "metadata": {
        "id": "q6jN1H9aSOBc",
        "colab_type": "text"
      },
      "source": [
        "Create data frame"
      ]
    },
    {
      "cell_type": "code",
      "metadata": {
        "id": "m31it5MRLSvt",
        "colab_type": "code",
        "colab": {}
      },
      "source": [
        "# Create Data Frame\n",
        "df_city = pd.DataFrame({'kecamatan' : pd.Series([21, 30], index =['medan', 'bandung']), \n",
        "                        'kelurahan' : pd.Series([151, 151], index =['medan', 'bandung']),\n",
        "                        'area' : pd.Series([265, 167], index =['medan', 'bandung'])})\n",
        "df_city.index.name = 'city'\n",
        "df_city"
      ],
      "execution_count": 0,
      "outputs": []
    },
    {
      "cell_type": "markdown",
      "metadata": {
        "id": "crWQg3-2csHT",
        "colab_type": "text"
      },
      "source": [
        "Using the stack method on this data pivots the columns into the rows, producing a Series:"
      ]
    },
    {
      "cell_type": "code",
      "metadata": {
        "id": "hpmvT3jXRuEA",
        "colab_type": "code",
        "colab": {}
      },
      "source": [
        "# Stack Data\n",
        "result = df_city.stack()\n",
        "result"
      ],
      "execution_count": 0,
      "outputs": []
    },
    {
      "cell_type": "markdown",
      "metadata": {
        "id": "gdFbIIgVcvd2",
        "colab_type": "text"
      },
      "source": [
        "\n",
        "From a hierarchically-indexed Series, you can rearrange the data back into a DataFrame with unstack:"
      ]
    },
    {
      "cell_type": "code",
      "metadata": {
        "id": "hAMEKBV4Rwzo",
        "colab_type": "code",
        "colab": {}
      },
      "source": [
        "# Unstack Data\n",
        "result.unstack()"
      ],
      "execution_count": 0,
      "outputs": []
    },
    {
      "cell_type": "markdown",
      "metadata": {
        "id": "SgCp6WWScwk6",
        "colab_type": "text"
      },
      "source": [
        "\n",
        "By default the innermost level is unstacked (same with stack). You can unstack a different level by passing a level number or name:"
      ]
    },
    {
      "cell_type": "code",
      "metadata": {
        "id": "vHhaPGrXR6VP",
        "colab_type": "code",
        "colab": {}
      },
      "source": [
        "# Unstack in Different Level\n",
        "result.unstack(0)"
      ],
      "execution_count": 0,
      "outputs": []
    },
    {
      "cell_type": "code",
      "metadata": {
        "id": "CcxB4vz9R_QF",
        "colab_type": "code",
        "colab": {}
      },
      "source": [
        "# Unstack in Different Level\n",
        "result.unstack('city')"
      ],
      "execution_count": 0,
      "outputs": []
    },
    {
      "cell_type": "markdown",
      "metadata": {
        "id": "SMUoRYiOSwuP",
        "colab_type": "text"
      },
      "source": [
        "## Data Cleansing"
      ]
    },
    {
      "cell_type": "markdown",
      "metadata": {
        "id": "D-X35xaZTCpC",
        "colab_type": "text"
      },
      "source": [
        "### Removing Duplicates"
      ]
    },
    {
      "cell_type": "markdown",
      "metadata": {
        "id": "dwDn2-8bWluN",
        "colab_type": "text"
      },
      "source": [
        "Duplicate rows may be found in a DataFrame for any number of reasons. Here is an example. We use pet dataframe that already created before."
      ]
    },
    {
      "cell_type": "markdown",
      "metadata": {
        "id": "w4aRdZtwSeCl",
        "colab_type": "text"
      },
      "source": [
        "Show data frame"
      ]
    },
    {
      "cell_type": "code",
      "metadata": {
        "id": "aPHmp8hDS-6j",
        "colab_type": "code",
        "colab": {}
      },
      "source": [
        "# Show the Data Frame\n",
        "df_pets"
      ],
      "execution_count": 0,
      "outputs": []
    },
    {
      "cell_type": "markdown",
      "metadata": {
        "id": "9vfCH-0OWpxv",
        "colab_type": "text"
      },
      "source": [
        "The DataFrame method duplicated returns a boolean Series indicating whether each row is a duplicate or not:"
      ]
    },
    {
      "cell_type": "code",
      "metadata": {
        "id": "KWpWTJjmTNsO",
        "colab_type": "code",
        "colab": {}
      },
      "source": [
        "# Check for Duplication\n",
        "df_pets.duplicated()"
      ],
      "execution_count": 0,
      "outputs": []
    },
    {
      "cell_type": "markdown",
      "metadata": {
        "id": "5COnE15hWsxb",
        "colab_type": "text"
      },
      "source": [
        "Relatedly, drop_duplicates returns a DataFrame where the duplicated array is True:"
      ]
    },
    {
      "cell_type": "code",
      "metadata": {
        "id": "ZazfWiHBTX9m",
        "colab_type": "code",
        "colab": {}
      },
      "source": [
        "# Drop Duplicates in The Dataframe\n",
        "df_pets.drop_duplicates()"
      ],
      "execution_count": 0,
      "outputs": []
    },
    {
      "cell_type": "markdown",
      "metadata": {
        "id": "nFGXnpMHEyVo",
        "colab_type": "text"
      },
      "source": [
        "Drop duplicates based on one column"
      ]
    },
    {
      "cell_type": "code",
      "metadata": {
        "id": "rTIAMEASTk86",
        "colab_type": "code",
        "colab": {}
      },
      "source": [
        "# Drop Duplicates based on Column Pet\n",
        "df_pets.drop_duplicates(['pet'])"
      ],
      "execution_count": 0,
      "outputs": []
    },
    {
      "cell_type": "code",
      "metadata": {
        "id": "nieIZedwDnJ_",
        "colab_type": "code",
        "colab": {}
      },
      "source": [
        "# Drop Duplicates based on Column Weight\n",
        "df_pets.drop_duplicates(['age'])"
      ],
      "execution_count": 0,
      "outputs": []
    },
    {
      "cell_type": "code",
      "metadata": {
        "id": "_iUsxsFvEbOx",
        "colab_type": "code",
        "colab": {}
      },
      "source": [
        "# Drop Duplicates based on Column Gender\n",
        "df_pets.drop_duplicates(['color'])"
      ],
      "execution_count": 0,
      "outputs": []
    },
    {
      "cell_type": "markdown",
      "metadata": {
        "id": "hCEf59fYE8rf",
        "colab_type": "text"
      },
      "source": [
        "Drop duplicates based on more than one columns"
      ]
    },
    {
      "cell_type": "code",
      "metadata": {
        "id": "0RfSqtp1Ejwd",
        "colab_type": "code",
        "colab": {}
      },
      "source": [
        "# Drop Duplicates based on Column Pet and Weight\n",
        "df_pets.drop_duplicates(['pet', 'age'])"
      ],
      "execution_count": 0,
      "outputs": []
    },
    {
      "cell_type": "markdown",
      "metadata": {
        "id": "zlJ1w69tUJaR",
        "colab_type": "text"
      },
      "source": [
        "### Replacing Values"
      ]
    },
    {
      "cell_type": "markdown",
      "metadata": {
        "id": "4Gco82NZW5_q",
        "colab_type": "text"
      },
      "source": [
        "In replacing values, we replace values with different new values. We use pet data frame that already created before."
      ]
    },
    {
      "cell_type": "markdown",
      "metadata": {
        "id": "NX15OduDSzw6",
        "colab_type": "text"
      },
      "source": [
        "Show data frame"
      ]
    },
    {
      "cell_type": "code",
      "metadata": {
        "id": "lJIsWuNyUiDl",
        "colab_type": "code",
        "colab": {}
      },
      "source": [
        "# Show the Data Frame\n",
        "df_pets"
      ],
      "execution_count": 0,
      "outputs": []
    },
    {
      "cell_type": "markdown",
      "metadata": {
        "id": "Hxo36lFLW9yq",
        "colab_type": "text"
      },
      "source": [
        "If we consider that otter with the age of 4 is an uncorrect and unknown data, we can replace these values with NA values (missing values)."
      ]
    },
    {
      "cell_type": "code",
      "metadata": {
        "id": "s02WY662UlIM",
        "colab_type": "code",
        "colab": {}
      },
      "source": [
        "# Set Value as Missing Data\n",
        "df_pets.replace(4, np.nan)"
      ],
      "execution_count": 0,
      "outputs": []
    },
    {
      "cell_type": "markdown",
      "metadata": {
        "id": "rppc1mxVXAIQ",
        "colab_type": "text"
      },
      "source": [
        "Replace multiple values at once"
      ]
    },
    {
      "cell_type": "code",
      "metadata": {
        "id": "-KFeiGNfUr28",
        "colab_type": "code",
        "colab": {}
      },
      "source": [
        "# Set 4 and 5 Values as Missing Data\n",
        "df_pets.replace([4, 5], np.nan)"
      ],
      "execution_count": 0,
      "outputs": []
    },
    {
      "cell_type": "markdown",
      "metadata": {
        "id": "WVgsHvKFXFxA",
        "colab_type": "text"
      },
      "source": [
        "Replace multiple values with different value for each"
      ]
    },
    {
      "cell_type": "code",
      "metadata": {
        "id": "kAEAPuaVU4NZ",
        "colab_type": "code",
        "colab": {}
      },
      "source": [
        "# Set 4 as Missing Data and 5 as 10\n",
        "df_pets.replace({4: np.nan, 5: 10})"
      ],
      "execution_count": 0,
      "outputs": []
    },
    {
      "cell_type": "markdown",
      "metadata": {
        "id": "EIJTH8wjW6CY",
        "colab_type": "text"
      },
      "source": [
        "Create pet data with missing value"
      ]
    },
    {
      "cell_type": "code",
      "metadata": {
        "id": "i_tLI265W-I-",
        "colab_type": "code",
        "colab": {}
      },
      "source": [
        "# Create Data Frame with Missing Value\n",
        "df_pets_a = df_pets.replace({4: np.nan, 5: 10})\n",
        "df_pets_a"
      ],
      "execution_count": 0,
      "outputs": []
    },
    {
      "cell_type": "markdown",
      "metadata": {
        "id": "25kYJSviV-yo",
        "colab_type": "text"
      },
      "source": [
        "### Impute Missing Values"
      ]
    },
    {
      "cell_type": "markdown",
      "metadata": {
        "id": "_piE9CHiWa_x",
        "colab_type": "text"
      },
      "source": [
        "Filling in missing data with the fill NA method. Here is an example. We use pet data frame with missing value that already created before."
      ]
    },
    {
      "cell_type": "markdown",
      "metadata": {
        "id": "WH619XikXuT7",
        "colab_type": "text"
      },
      "source": [
        "Show data frame"
      ]
    },
    {
      "cell_type": "code",
      "metadata": {
        "id": "VlGvF8j0Xqm7",
        "colab_type": "code",
        "colab": {}
      },
      "source": [
        "# Show Data Frame\n",
        "df_pets_a"
      ],
      "execution_count": 0,
      "outputs": []
    },
    {
      "cell_type": "markdown",
      "metadata": {
        "id": "MlucZx6PYoK9",
        "colab_type": "text"
      },
      "source": [
        "Search for column with missing values"
      ]
    },
    {
      "cell_type": "code",
      "metadata": {
        "id": "x4eG_M3AZMCq",
        "colab_type": "code",
        "colab": {}
      },
      "source": [
        "# Show Missing Values on Data Frame\n",
        "df_pets_a.isnull().sum()"
      ],
      "execution_count": 0,
      "outputs": []
    },
    {
      "cell_type": "markdown",
      "metadata": {
        "id": "Ogl4cjDzVspJ",
        "colab_type": "text"
      },
      "source": [
        "Impute missing value"
      ]
    },
    {
      "cell_type": "code",
      "metadata": {
        "id": "3PqBOHq4Vv6y",
        "colab_type": "code",
        "colab": {}
      },
      "source": [
        "# Impute Missing Values with Median Value\n",
        "median = df_pets_a['age'].median()\n",
        "df_pets_a['age'].fillna(median, inplace=True)\n",
        "df_pets_a"
      ],
      "execution_count": 0,
      "outputs": []
    },
    {
      "cell_type": "markdown",
      "metadata": {
        "id": "A_LBFvUjZQwt",
        "colab_type": "text"
      },
      "source": [
        "Recheck the missing values"
      ]
    },
    {
      "cell_type": "code",
      "metadata": {
        "id": "7u5r8OphZYvG",
        "colab_type": "code",
        "colab": {}
      },
      "source": [
        "# Show Missing Values on Data Frame\n",
        "df_pets_a.isnull().sum()"
      ],
      "execution_count": 0,
      "outputs": []
    },
    {
      "cell_type": "markdown",
      "metadata": {
        "id": "j4YCbkysU_xQ",
        "colab_type": "text"
      },
      "source": [
        "### Filtering"
      ]
    },
    {
      "cell_type": "markdown",
      "metadata": {
        "id": "PNUxuvA5VNLe",
        "colab_type": "text"
      },
      "source": [
        "Filtering value is largely a matter of applying array operations. Consider a data frame with some normally distributed data:"
      ]
    },
    {
      "cell_type": "code",
      "metadata": {
        "id": "LYi0O42zVCgf",
        "colab_type": "code",
        "colab": {}
      },
      "source": [
        "# Create Data Frame with Random Value with 1000 Rows and 4 Columns\n",
        "np.random.seed(12345)\n",
        "df_random = pd.DataFrame(np.random.randn(1000, 4))\n",
        "df_random"
      ],
      "execution_count": 0,
      "outputs": []
    },
    {
      "cell_type": "code",
      "metadata": {
        "id": "VcoCEgy_Vp3h",
        "colab_type": "code",
        "colab": {}
      },
      "source": [
        "# Describe the Data\n",
        "df_random.describe()"
      ],
      "execution_count": 0,
      "outputs": []
    },
    {
      "cell_type": "markdown",
      "metadata": {
        "id": "dyZ6masLVOxU",
        "colab_type": "text"
      },
      "source": [
        "Find values in one of the columns exceeding three in magnitude"
      ]
    },
    {
      "cell_type": "code",
      "metadata": {
        "id": "V5IpK_69VSDq",
        "colab_type": "code",
        "colab": {}
      },
      "source": [
        "# Find Values in Column 2 which is Exceeding 3 in Magnitude\n",
        "column2 = df_random[2]\n",
        "column2[np.abs(column2) > 3]"
      ],
      "execution_count": 0,
      "outputs": []
    },
    {
      "cell_type": "markdown",
      "metadata": {
        "id": "-jdD1oBrVRhx",
        "colab_type": "text"
      },
      "source": [
        "Select all rows having a value exceeding 3 or -3"
      ]
    },
    {
      "cell_type": "code",
      "metadata": {
        "id": "IrnBOS_aVbJZ",
        "colab_type": "code",
        "colab": {}
      },
      "source": [
        "# Select Rows Having a Value Exceeding 3 in Magnitude\n",
        "df_random[(np.abs(df_random) > 3).any(1)]"
      ],
      "execution_count": 0,
      "outputs": []
    }
  ]
}